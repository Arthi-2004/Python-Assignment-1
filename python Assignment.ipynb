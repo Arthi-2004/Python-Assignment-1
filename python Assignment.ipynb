{
 "cells": [
  {
   "cell_type": "code",
   "execution_count": null,
   "id": "bdb27133",
   "metadata": {},
   "outputs": [],
   "source": [
    "# NAME:ARTHI.M\n",
    "# REGISTER NO:21UAIO14"
   ]
  },
  {
   "cell_type": "code",
   "execution_count": null,
   "id": "fe64b6ac",
   "metadata": {},
   "outputs": [],
   "source": [
    "# printing given pattern:"
   ]
  },
  {
   "cell_type": "code",
   "execution_count": null,
   "id": "e10ecaef",
   "metadata": {},
   "outputs": [],
   "source": [
    "# 11.\n",
    "def pypart(n):\n",
    "    myList = []\n",
    "    for i in range(1,n+1):\n",
    "        myList.append(\"*\"*i)\n",
    "    print(\"\\n\".join(myList))\n",
    "n = 5\n",
    "pypart(n)"
   ]
  },
  {
   "cell_type": "code",
   "execution_count": null,
   "id": "ba78b85b",
   "metadata": {},
   "outputs": [],
   "source": [
    "# remove characters from a string"
   ]
  },
  {
   "cell_type": "code",
   "execution_count": null,
   "id": "9d38c09c",
   "metadata": {},
   "outputs": [],
   "source": [
    "#12.\n",
    "def remove_chars(word, n):\n",
    "    print('Original string:', word)\n",
    "    x = word[n:]\n",
    "    return x\n",
    "\n",
    "print(\"Removing characters from a string\")\n",
    "print(remove_chars(\"ARTHI\", 3))\n",
    "print(remove_chars(\"ARTHI\", 4))"
   ]
  },
  {
   "cell_type": "code",
   "execution_count": null,
   "id": "cb4625f4",
   "metadata": {},
   "outputs": [],
   "source": [
    "# iterate and print those num which is divisible by 5"
   ]
  },
  {
   "cell_type": "code",
   "execution_count": null,
   "id": "9de1510b",
   "metadata": {},
   "outputs": [],
   "source": [
    "#13.\n",
    "for i in range(3): \n",
    "    n = int(input(\"Enter a number: \")) \n",
    " \n",
    "    if n % 5 == 0: \n",
    "        print(n) "
   ]
  },
  {
   "cell_type": "code",
   "execution_count": null,
   "id": "2aa174d5",
   "metadata": {},
   "outputs": [],
   "source": [
    "# count 'hi'"
   ]
  },
  {
   "cell_type": "code",
   "execution_count": null,
   "id": "860cb4d2",
   "metadata": {},
   "outputs": [],
   "source": [
    "#14.\n",
    "words = [\"hi\", \"hello\", \"hi\", \"welcome\"]\n",
    "n_hi = words.count(\"hi\")\n",
    "print(n_hi)"
   ]
  },
  {
   "cell_type": "code",
   "execution_count": null,
   "id": "1a52d76c",
   "metadata": {},
   "outputs": [],
   "source": [
    "# print gn pattern"
   ]
  },
  {
   "cell_type": "code",
   "execution_count": 21,
   "id": "9ef3d5c9",
   "metadata": {},
   "outputs": [
    {
     "name": "stdout",
     "output_type": "stream",
     "text": [
      "Enter number of rows:5\n",
      "1\n",
      "22\n",
      "333\n",
      "4444\n",
      "55555\n"
     ]
    }
   ],
   "source": [
    "#15.\n",
    "n = int(input(\"Enter number of rows:\"))\n",
    "for i in range(1,n+1):\n",
    "    for j in range(1,i+1):\n",
    "        print(i, end =\"\")\n",
    "    print()"
   ]
  },
  {
   "cell_type": "code",
   "execution_count": null,
   "id": "b7864dc7",
   "metadata": {},
   "outputs": [],
   "source": [
    "# palindrome or not"
   ]
  },
  {
   "cell_type": "code",
   "execution_count": null,
   "id": "215ce2f1",
   "metadata": {},
   "outputs": [],
   "source": [
    "#16.\n",
    "number = int(input(\"Please Enter any Value: \"))\n",
    "reverse = 0\n",
    "temp = number\n",
    "while(temp > 0):\n",
    "    Reminder = temp % 10\n",
    "    reverse = (reverse * 10) + Reminder\n",
    "    temp = temp //10\n",
    "    print(\"Reverse of it is = %d\" %reverse)\n",
    "if(number == reverse):\n",
    "    print(\"%d is a Palindrome\" %number)\n",
    "else:\n",
    "    print(\"%d is Not\" %number)"
   ]
  },
  {
   "cell_type": "code",
   "execution_count": null,
   "id": "a37c477d",
   "metadata": {},
   "outputs": [],
   "source": [
    "# interchange 1st and last element"
   ]
  },
  {
   "cell_type": "code",
   "execution_count": null,
   "id": "ab3b6fe2",
   "metadata": {},
   "outputs": [],
   "source": [
    "#17.string\n",
    "myList = [20,31,69,87,99,41]\n",
    "print(\"Initial List : \", myList)\n",
    "length = len(myList)\n",
    "temp = myList[0]\n",
    "myList[0] = myList[length - 1]\n",
    "myList[length - 1] = temp\n",
    "\n",
    "print(\"List after Swapping : \", myList)"
   ]
  },
  {
   "cell_type": "code",
   "execution_count": null,
   "id": "4a0f8636",
   "metadata": {},
   "outputs": [],
   "source": [
    "# swap 2 elements in list"
   ]
  },
  {
   "cell_type": "code",
   "execution_count": null,
   "id": "c9a51a3b",
   "metadata": {},
   "outputs": [],
   "source": [
    "#18.\n",
    "def swapPositions(list, pos1, pos2):\n",
    "     \n",
    "    list[pos1], list[pos2] = list[pos2], list[pos1]\n",
    "    return list\n",
    " \n",
    "List = [21, 65, 20, 90]\n",
    "pos1, pos2  = 1, 3\n",
    " \n",
    "print(swapPositions(List, pos1-1, pos2-1))"
   ]
  },
  {
   "cell_type": "code",
   "execution_count": null,
   "id": "12ce7585",
   "metadata": {},
   "outputs": [],
   "source": [
    "# length of a list"
   ]
  },
  {
   "cell_type": "code",
   "execution_count": null,
   "id": "02171b95",
   "metadata": {},
   "outputs": [],
   "source": [
    "#19.\n",
    "test_list = [ 50,25,70,80,18]\n",
    "print (\"The list is : \" + str(test_list))\n",
    "counter = 0\n",
    "for i in test_list:\n",
    "    counter = counter + 1\n",
    "print (\"Length of list using naive method is : \" + str(counter))"
   ]
  },
  {
   "cell_type": "code",
   "execution_count": null,
   "id": "f4e31495",
   "metadata": {},
   "outputs": [],
   "source": [
    "# maximum of 2 numbers"
   ]
  },
  {
   "cell_type": "code",
   "execution_count": null,
   "id": "f600f00e",
   "metadata": {},
   "outputs": [],
   "source": [
    "#20.\n",
    "def maximum(a, b):\n",
    "      \n",
    "    if a >= b:\n",
    "        return a\n",
    "    else:\n",
    "        return b\n",
    "a = 4\n",
    "b = 18\n",
    "print(maximum(a, b))"
   ]
  },
  {
   "cell_type": "code",
   "execution_count": null,
   "id": "ae54d514",
   "metadata": {},
   "outputs": [],
   "source": [
    "# minimum of 2 numbers"
   ]
  },
  {
   "cell_type": "code",
   "execution_count": null,
   "id": "d238b364",
   "metadata": {},
   "outputs": [],
   "source": [
    "#21.\n",
    "def minimum(a, b):\n",
    "      \n",
    "    if a <= b:\n",
    "        return a\n",
    "    else:\n",
    "        return b\n",
    "a = 10\n",
    "b = 25\n",
    "print(minimum(a, b))"
   ]
  },
  {
   "cell_type": "code",
   "execution_count": null,
   "id": "8da21890",
   "metadata": {},
   "outputs": [],
   "source": [
    "# string is symmetrical or palindrome"
   ]
  },
  {
   "cell_type": "code",
   "execution_count": null,
   "id": "53ad30c7",
   "metadata": {},
   "outputs": [],
   "source": [
    "#22.\n",
    "string = 'amaama'\n",
    "half = int(len(string) / 2)\n",
    " \n",
    "if len(string) % 2 == 0:  # even\n",
    "    first_str = string[:half]\n",
    "    second_str = string[half:]\n",
    "else:  # odd\n",
    "    first_str = string[:half]\n",
    "    second_str = string[half+1:]\n",
    "if first_str == second_str:\n",
    "    print(string, 'string is symmertical')\n",
    "else:\n",
    "    print(string, 'string is not symmertical')\n",
    "if first_str == second_str[::-1]: \n",
    "    print(string, 'string is palindrome')\n",
    "else:\n",
    "    print(string, 'string is not palindrome')\n"
   ]
  },
  {
   "cell_type": "code",
   "execution_count": null,
   "id": "66b9dd38",
   "metadata": {},
   "outputs": [],
   "source": [
    "# reverse words"
   ]
  },
  {
   "cell_type": "code",
   "execution_count": null,
   "id": "0832dafa",
   "metadata": {},
   "outputs": [],
   "source": [
    "#23.\n",
    "string = \"morning good hi\"\n",
    "s = string.split()[::-1]\n",
    "l = []\n",
    "for i in s:\n",
    "   \n",
    "    l.append(i)\n",
    "\n",
    "print(\" \".join(l))"
   ]
  },
  {
   "cell_type": "code",
   "execution_count": null,
   "id": "45b27723",
   "metadata": {},
   "outputs": [],
   "source": [
    "# remove i'th character"
   ]
  },
  {
   "cell_type": "code",
   "execution_count": null,
   "id": "61e0e3d1",
   "metadata": {},
   "outputs": [],
   "source": [
    "#24.\n",
    "test_str = \"ishu\" \n",
    "print (\"The original string is : \" + test_str)\n",
    "new_str = \"\"\n",
    "  \n",
    "for i in range(len(test_str)):\n",
    "    if i != 2:\n",
    "        new_str = new_str + test_str[i] \n",
    "print (\"The string after removal of i'th character : \" + new_str)"
   ]
  },
  {
   "cell_type": "code",
   "execution_count": null,
   "id": "9c462bdf",
   "metadata": {},
   "outputs": [],
   "source": [
    "# size of tuple"
   ]
  },
  {
   "cell_type": "code",
   "execution_count": null,
   "id": "8b4abbd6",
   "metadata": {},
   "outputs": [],
   "source": [
    "#27.tuples\n",
    "import sys\n",
    "Tuple1 = (\"A\", 1, \"B\", 2, \"C\", 3)\n",
    "Tuple2 = (\"ishu\", \"Kamal\", \"Harsha\", \"Arthi\", \"sri\", \"Deepika\")\n",
    "Tuple3 = ((1, \"Lime\"), ( 2, \"Turmeric\"), (3, \"Food\"), (4, \"Wonder\"))\n",
    "print(\"Size of Tuple1: \" + str(sys.getsizeof(Tuple1)) + \"bytes\")\n",
    "print(\"Size of Tuple2: \" + str(sys.getsizeof(Tuple2)) + \"bytes\")\n",
    "print(\"Size of Tuple3: \" + str(sys.getsizeof(Tuple3)) + \"bytes\")"
   ]
  },
  {
   "cell_type": "code",
   "execution_count": null,
   "id": "708fd3c5",
   "metadata": {},
   "outputs": [],
   "source": [
    "# max and min in k"
   ]
  },
  {
   "cell_type": "code",
   "execution_count": null,
   "id": "cd5f9483",
   "metadata": {},
   "outputs": [],
   "source": [
    "#28.\n",
    "test_tup = (9, 26, 50, 70, 69, 89)\n",
    "print(\"The original tuple is : \" + str(test_tup))\n",
    "K = 2\n",
    "res = []\n",
    "test_tup = list(sorted(test_tup))\n",
    " \n",
    "for idx, val in enumerate(test_tup):\n",
    "    if idx < K or idx >= len(test_tup) - K:\n",
    "        res.append(val)\n",
    "res = tuple(res)\n",
    "print(\"The extracted values : \" + str(res))"
   ]
  },
  {
   "cell_type": "code",
   "execution_count": null,
   "id": "1150bdc3",
   "metadata": {},
   "outputs": [],
   "source": [
    "# sum of tuples"
   ]
  },
  {
   "cell_type": "code",
   "execution_count": null,
   "id": "7c017b19",
   "metadata": {},
   "outputs": [],
   "source": [
    "#29.\n",
    "test_tup = (30,56,90,99,50)\n",
    "print(\"The original tuple is : \" + str(test_tup)) \n",
    "res = sum(list(test_tup))\n",
    "print(\"The summation of tuple elements are : \" + str(res)) "
   ]
  },
  {
   "cell_type": "code",
   "execution_count": null,
   "id": "40dc89b0",
   "metadata": {},
   "outputs": [],
   "source": [
    "# sort"
   ]
  },
  {
   "cell_type": "code",
   "execution_count": null,
   "id": "f121f891",
   "metadata": {},
   "outputs": [],
   "source": [
    "#32.DICTIONARY\n",
    "def dictionairy():\n",
    "    key_value = {}\n",
    "    key_value[2] = 20\n",
    "    key_value[1] = 18\n",
    "    key_value[5] = 10\n",
    "    key_value[4] = 25\n",
    "    key_value[6] = 18\n",
    "    key_value[3] = 3230\n",
    " \n",
    "    print(\"Task 1:-\\n\")\n",
    " \n",
    "    print(\"key_value\", key_value)\n",
    "\n",
    "    for i in sorted(key_value.keys()):\n",
    "        print(i, end=\" \")\n",
    " \n",
    " \n",
    "def main():\n",
    "    \n",
    "    dictionairy()\n",
    "if __name__ == \"__main__\":\n",
    "    main()"
   ]
  },
  {
   "cell_type": "code",
   "execution_count": null,
   "id": "a1f9c4fe",
   "metadata": {},
   "outputs": [],
   "source": [
    "# keys with multiple tuples"
   ]
  },
  {
   "cell_type": "code",
   "execution_count": null,
   "id": "42dea7e1",
   "metadata": {},
   "outputs": [],
   "source": [
    "#33\n",
    "import random as rn\n",
    "dict = {}\n",
    "x, y, z = 27,50,69\n",
    "dict[x, y, z] = x + y - z;\n",
    "x, y, z = 90, 25, 45\n",
    "dict[x, y, z] = x + y - z;\n",
    "print(dict)"
   ]
  },
  {
   "cell_type": "code",
   "execution_count": null,
   "id": "23c8f6c9",
   "metadata": {},
   "outputs": [],
   "source": [
    "# sum all items in dict"
   ]
  },
  {
   "cell_type": "code",
   "execution_count": null,
   "id": "c55ad1df",
   "metadata": {},
   "outputs": [],
   "source": [
    "#34\n",
    "def returnSum(myDict):\n",
    " \n",
    "    list = []\n",
    "    for i in myDict:\n",
    "        list.append(myDict[i])\n",
    "    final = sum(list)\n",
    " \n",
    "    return final\n",
    "dict = {'a': 200, 'b': 90, 'c': 600}\n",
    "print(\"Sum :\", returnSum(dict))"
   ]
  },
  {
   "cell_type": "code",
   "execution_count": null,
   "id": "cc90b0a2",
   "metadata": {},
   "outputs": [],
   "source": [
    "# size of set"
   ]
  },
  {
   "cell_type": "code",
   "execution_count": null,
   "id": "f2ea890c",
   "metadata": {},
   "outputs": [],
   "source": [
    "#36 SET\n",
    "import sys\n",
    "Set1 = {\"A\", 1, \"B\", 2, \"C\", 3}\n",
    "Set2 = {\"Gopi\", \"Ram\", \"hemi\", \"gopika\", \"mom\", \"Dad\"}\n",
    "Set3 = {(1, \"Lion\"), ( 2, \"Tiger\"), (3, \"Fox\")}\n",
    "\n",
    "print(\"Size of Set1: \" + str(sys.getsizeof(Set1)) + \"bytes\")\n",
    "print(\"Size of Set2: \" + str(sys.getsizeof(Set2)) + \"bytes\")\n",
    "print(\"Size of Set3: \" + str(sys.getsizeof(Set3)) + \"bytes\")"
   ]
  },
  {
   "cell_type": "code",
   "execution_count": null,
   "id": "10fc7e3f",
   "metadata": {},
   "outputs": [],
   "source": [
    "# iterate"
   ]
  },
  {
   "cell_type": "code",
   "execution_count": null,
   "id": "a40c6c50",
   "metadata": {},
   "outputs": [],
   "source": [
    "#37\n",
    "test_set = set(\"Arthi\")\n",
    "\n",
    "for val in test_set:\n",
    "    print(val)"
   ]
  },
  {
   "cell_type": "code",
   "execution_count": null,
   "id": "a723c958",
   "metadata": {},
   "outputs": [],
   "source": [
    "# max and min in a set"
   ]
  },
  {
   "cell_type": "code",
   "execution_count": null,
   "id": "68945d37",
   "metadata": {},
   "outputs": [],
   "source": [
    "#38\n",
    "grp_list=[90,49,60,99,50]\n",
    "min_ele,max_ele=gfg_list[0],gfg_list[0] \n",
    "for i in range(1,len(gfg_list)):\n",
    "    if gfg_list[i]<min_ele:\n",
    "        min_ele=gfg_list[i]\n",
    "    if gfg_list[i]>max_ele:\n",
    "        max_ele=gfg_list[i]\n",
    "print('Minimum Element in the list',gfg_list,'is',min_ele)\n",
    "print('Maximum Element in the list',gfg_list,'is',max_ele)"
   ]
  },
  {
   "cell_type": "code",
   "execution_count": null,
   "id": "14b5e1a4",
   "metadata": {},
   "outputs": [],
   "source": [
    "# assign row and column "
   ]
  },
  {
   "cell_type": "code",
   "execution_count": null,
   "id": "f03a5bfb",
   "metadata": {},
   "outputs": [],
   "source": [
    "#41 MATRIX\n",
    "test_list = [[20,50,69], [89, 8, 90], [50, 40, 200], [245, 309, 99]]\n",
    "print(\"The original list : \" + str(test_list))\n",
    "res = {test_list[0][ele] :  test_list[ele + 1] for ele in range(len(test_list) - 1)}\n",
    "print(\"The Assigned Matrix : \" + str(res))"
   ]
  },
  {
   "cell_type": "code",
   "execution_count": null,
   "id": "6701cc42",
   "metadata": {},
   "outputs": [],
   "source": [
    "# add & sub"
   ]
  },
  {
   "cell_type": "code",
   "execution_count": null,
   "id": "bd8445c8",
   "metadata": {},
   "outputs": [],
   "source": [
    "#42\n",
    "import numpy as np\n",
    "A = np.array([[10, 29], [70, 40]])\n",
    "  \n",
    "B = np.array([[40, 57], [60, 76]])\n",
    "  \n",
    "print(\"Printing elements of first matrix\")\n",
    "print(A)\n",
    "print(\"Printing elements of second matrix\")\n",
    "print(B)\n",
    "  \n",
    "print(\"Addition of two matrix\")\n",
    "print(np.add(A, B))\n",
    "print(\"subtraction of two matrix\")\n",
    "print(np.subtract(A, B))"
   ]
  },
  {
   "cell_type": "code",
   "execution_count": null,
   "id": "91a39128",
   "metadata": {},
   "outputs": [],
   "source": [
    "# group similar elements"
   ]
  },
  {
   "cell_type": "code",
   "execution_count": null,
   "id": "4080b700",
   "metadata": {},
   "outputs": [],
   "source": [
    "#43\n",
    "from itertools import groupby\n",
    "test_list = [10,30,58,70,90]\n",
    "print(\"The original list : \" + str(test_list))\n",
    "res = [list(val) for key, val in groupby(sorted(test_list))]  \n",
    "print(\"Matrix after grouping : \" + str(res))"
   ]
  },
  {
   "cell_type": "code",
   "execution_count": null,
   "id": "17c2099c",
   "metadata": {},
   "outputs": [],
   "source": [
    "# list of parameter"
   ]
  },
  {
   "cell_type": "code",
   "execution_count": null,
   "id": "3ee4a5ce",
   "metadata": {},
   "outputs": [],
   "source": [
    "#46 FUNCTIONS \n",
    "import inspect\n",
    "import collections\n",
    "print(inspect.signature(collections.Counter))"
   ]
  },
  {
   "cell_type": "code",
   "execution_count": null,
   "id": "c6171eec",
   "metadata": {},
   "outputs": [],
   "source": [
    "# print multiple argument"
   ]
  },
  {
   "cell_type": "code",
   "execution_count": null,
   "id": "dae229d1",
   "metadata": {},
   "outputs": [],
   "source": [
    "#47\n",
    "def GFG(name, num):\n",
    "    print(\"Hello from \", name + ', ' + num)\n",
    "  \n",
    "  \n",
    "GFG(\"Arthi\", \"04\")"
   ]
  },
  {
   "cell_type": "code",
   "execution_count": null,
   "id": "89acc949",
   "metadata": {},
   "outputs": [],
   "source": [
    "# find power of a num using recursion"
   ]
  },
  {
   "cell_type": "code",
   "execution_count": null,
   "id": "7e07cd31",
   "metadata": {},
   "outputs": [],
   "source": [
    "#48\n",
    "def power(N, P):\n",
    " \n",
    "    if P == 0:  \n",
    "        return 1\n",
    "   \n",
    "    return (N*power(N, P-1)) \n",
    "N = 10\n",
    "P = 0\n",
    " \n",
    "print(power(N, P))"
   ]
  },
  {
   "cell_type": "code",
   "execution_count": null,
   "id": "a9da8de8",
   "metadata": {},
   "outputs": [],
   "source": []
  }
 ],
 "metadata": {
  "kernelspec": {
   "display_name": "Python 3 (ipykernel)",
   "language": "python",
   "name": "python3"
  },
  "language_info": {
   "codemirror_mode": {
    "name": "ipython",
    "version": 3
   },
   "file_extension": ".py",
   "mimetype": "text/x-python",
   "name": "python",
   "nbconvert_exporter": "python",
   "pygments_lexer": "ipython3",
   "version": "3.9.12"
  }
 },
 "nbformat": 4,
 "nbformat_minor": 5
}
